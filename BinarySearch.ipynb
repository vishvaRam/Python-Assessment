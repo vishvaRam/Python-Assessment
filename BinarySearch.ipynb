{
 "cells": [
  {
   "cell_type": "markdown",
   "id": "4be68e44-5591-4c39-b9f8-252f0b7ad516",
   "metadata": {},
   "source": [
    "## Binary Search"
   ]
  },
  {
   "cell_type": "code",
   "execution_count": 16,
   "id": "8172919f-b6d4-4560-bb3d-e5db12f03287",
   "metadata": {},
   "outputs": [],
   "source": [
    "def binary_search(arr,x,low,high):\n",
    "    \n",
    "    if high >= low:\n",
    "        \n",
    "        mid = (high + low) // 2\n",
    "        print(f'Mid = {mid}')\n",
    "        \n",
    "        #\n",
    "        if arr[mid] == x:\n",
    "            return mid\n",
    "        \n",
    "        elif arr[mid] > x:\n",
    "            # handling left subarray\n",
    "            return binary_search(arr,x,low, mid-1)\n",
    "\n",
    "        else:\n",
    "            # handling right subarray \n",
    "            return binary_search(arr,x,mid+1,high)\n",
    "        \n",
    "    else:\n",
    "        return -1\n",
    "    \n",
    "    \n",
    "    "
   ]
  },
  {
   "cell_type": "code",
   "execution_count": 17,
   "id": "17afbf2d-23d7-4a88-9e03-5f93cdb6a65c",
   "metadata": {},
   "outputs": [],
   "source": [
    "arr = [ 2, 3, 4, 10, 40 ]\n",
    "\n",
    "x = 10\n"
   ]
  },
  {
   "cell_type": "code",
   "execution_count": 18,
   "id": "a840c2f7-d390-4702-a25d-2e313ec9a452",
   "metadata": {},
   "outputs": [
    {
     "data": {
      "text/plain": [
       "5"
      ]
     },
     "execution_count": 18,
     "metadata": {},
     "output_type": "execute_result"
    }
   ],
   "source": [
    "len(arr)"
   ]
  },
  {
   "cell_type": "code",
   "execution_count": 19,
   "id": "4a931caf-8149-4603-a76a-41fc4e1b77b6",
   "metadata": {},
   "outputs": [
    {
     "name": "stdout",
     "output_type": "stream",
     "text": [
      "Mid = 2\n",
      "Mid = 3\n"
     ]
    }
   ],
   "source": [
    "result = binary_search(arr,x,0,len(arr)-1)"
   ]
  },
  {
   "cell_type": "code",
   "execution_count": 20,
   "id": "6e8ff77c-e4d4-4cb5-8518-9461b98529cb",
   "metadata": {},
   "outputs": [
    {
     "name": "stdout",
     "output_type": "stream",
     "text": [
      "3\n"
     ]
    }
   ],
   "source": [
    "print(result)"
   ]
  },
  {
   "cell_type": "code",
   "execution_count": null,
   "id": "622f872a-dde1-4042-8fab-ace57a95ce45",
   "metadata": {},
   "outputs": [],
   "source": []
  }
 ],
 "metadata": {
  "kernelspec": {
   "display_name": "Python 3 (ipykernel)",
   "language": "python",
   "name": "python3"
  },
  "language_info": {
   "codemirror_mode": {
    "name": "ipython",
    "version": 3
   },
   "file_extension": ".py",
   "mimetype": "text/x-python",
   "name": "python",
   "nbconvert_exporter": "python",
   "pygments_lexer": "ipython3",
   "version": "3.8.12"
  }
 },
 "nbformat": 4,
 "nbformat_minor": 5
}
