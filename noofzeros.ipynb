{
 "cells": [
  {
   "cell_type": "markdown",
   "id": "826aea49-d130-4330-9c1b-8d3d81b2955d",
   "metadata": {},
   "source": [
    "### Finding the no of zeros"
   ]
  },
  {
   "cell_type": "code",
   "execution_count": 3,
   "id": "3c71bd0d-e9f8-4643-9d4b-2c53fa479b3f",
   "metadata": {},
   "outputs": [],
   "source": [
    "def findTrailingZeros(n):\n",
    "      \n",
    "    # Initialize result\n",
    "    count = 0\n",
    "  \n",
    "    # Keep dividing n by\n",
    "    # powers of 5 and\n",
    "    # update Count\n",
    "    i = 5\n",
    "    while (n / i>= 1):\n",
    "        print(n/i)\n",
    "        count += int(n / i)\n",
    "        i *= 5\n",
    "  \n",
    "    return int(count)\n",
    "    "
   ]
  },
  {
   "cell_type": "code",
   "execution_count": 6,
   "id": "86aaaeae-1bc0-4ea9-ab2e-f7b864cd6b12",
   "metadata": {},
   "outputs": [
    {
     "name": "stdout",
     "output_type": "stream",
     "text": [
      "64.2\n",
      "12.84\n",
      "2.568\n"
     ]
    },
    {
     "data": {
      "text/plain": [
       "78"
      ]
     },
     "execution_count": 6,
     "metadata": {},
     "output_type": "execute_result"
    }
   ],
   "source": [
    "findTrailingZeros(321)"
   ]
  },
  {
   "cell_type": "code",
   "execution_count": null,
   "id": "b6aff04f-8ecb-4419-b1c9-14d85f1d682f",
   "metadata": {},
   "outputs": [],
   "source": []
  },
  {
   "cell_type": "code",
   "execution_count": null,
   "id": "19773281-973c-4b73-8a55-3389abbd2546",
   "metadata": {},
   "outputs": [],
   "source": []
  },
  {
   "cell_type": "code",
   "execution_count": null,
   "id": "b9dc6840-c9fc-4f50-b550-f119e1d30427",
   "metadata": {},
   "outputs": [],
   "source": []
  }
 ],
 "metadata": {
  "kernelspec": {
   "display_name": "Python 3 (ipykernel)",
   "language": "python",
   "name": "python3"
  },
  "language_info": {
   "codemirror_mode": {
    "name": "ipython",
    "version": 3
   },
   "file_extension": ".py",
   "mimetype": "text/x-python",
   "name": "python",
   "nbconvert_exporter": "python",
   "pygments_lexer": "ipython3",
   "version": "3.8.12"
  }
 },
 "nbformat": 4,
 "nbformat_minor": 5
}
