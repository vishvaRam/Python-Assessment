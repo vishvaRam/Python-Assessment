{
 "cells": [
  {
   "cell_type": "markdown",
   "id": "d891f732-844f-4d68-839b-ab6c24414af6",
   "metadata": {},
   "source": [
    "## Matrix multiplication"
   ]
  },
  {
   "cell_type": "code",
   "execution_count": 2,
   "id": "fb2dc892-a201-43bb-bad6-3ead4583903c",
   "metadata": {},
   "outputs": [],
   "source": [
    "\n",
    "def create_matrix(row,colunm):\n",
    "\n",
    "    mat= []\n",
    "\n",
    "    # creating empty rows \n",
    "    for i in range(0,row):\n",
    "        mat.append([])\n",
    "\n",
    "    # looping to get input mat1\n",
    "    for i in range(0,row):\n",
    "        for j in range(0,colunm):\n",
    "            # creating\n",
    "            mat[i].append(j)\n",
    "            mat[i][j] = 0\n",
    "            print('Enter in row ', i+1,'colunm ',j+1)\n",
    "            mat[i][j] = int(input())\n",
    "\n",
    "    return mat\n"
   ]
  },
  {
   "cell_type": "code",
   "execution_count": 14,
   "id": "b16e7bde-7c6c-49ac-b793-af4db9f512e2",
   "metadata": {},
   "outputs": [
    {
     "name": "stdout",
     "output_type": "stream",
     "text": [
      "Enter in row  1 colunm  1\n"
     ]
    },
    {
     "name": "stdin",
     "output_type": "stream",
     "text": [
      " 7\n"
     ]
    },
    {
     "name": "stdout",
     "output_type": "stream",
     "text": [
      "Enter in row  1 colunm  2\n"
     ]
    },
    {
     "name": "stdin",
     "output_type": "stream",
     "text": [
      " 8\n"
     ]
    },
    {
     "name": "stdout",
     "output_type": "stream",
     "text": [
      "Enter in row  1 colunm  3\n"
     ]
    },
    {
     "name": "stdin",
     "output_type": "stream",
     "text": [
      " 6\n"
     ]
    },
    {
     "name": "stdout",
     "output_type": "stream",
     "text": [
      "Enter in row  2 colunm  1\n"
     ]
    },
    {
     "name": "stdin",
     "output_type": "stream",
     "text": [
      " 7\n"
     ]
    },
    {
     "name": "stdout",
     "output_type": "stream",
     "text": [
      "Enter in row  2 colunm  2\n"
     ]
    },
    {
     "name": "stdin",
     "output_type": "stream",
     "text": [
      " 5\n"
     ]
    },
    {
     "name": "stdout",
     "output_type": "stream",
     "text": [
      "Enter in row  2 colunm  3\n"
     ]
    },
    {
     "name": "stdin",
     "output_type": "stream",
     "text": [
      " 7\n"
     ]
    }
   ],
   "source": [
    "mat1 = create_matrix(2,3)"
   ]
  },
  {
   "cell_type": "code",
   "execution_count": 15,
   "id": "28a02eb7-9dc5-42db-8ddc-438c0225b465",
   "metadata": {},
   "outputs": [
    {
     "data": {
      "text/plain": [
       "[[7, 8, 6], [7, 5, 7]]"
      ]
     },
     "execution_count": 15,
     "metadata": {},
     "output_type": "execute_result"
    }
   ],
   "source": [
    "mat1"
   ]
  },
  {
   "cell_type": "code",
   "execution_count": 16,
   "id": "af3749ca-1998-439a-9c16-6ea355290207",
   "metadata": {},
   "outputs": [
    {
     "name": "stdout",
     "output_type": "stream",
     "text": [
      "Enter in row  1 colunm  1\n"
     ]
    },
    {
     "name": "stdin",
     "output_type": "stream",
     "text": [
      " 4\n"
     ]
    },
    {
     "name": "stdout",
     "output_type": "stream",
     "text": [
      "Enter in row  1 colunm  2\n"
     ]
    },
    {
     "name": "stdin",
     "output_type": "stream",
     "text": [
      " 8\n"
     ]
    },
    {
     "name": "stdout",
     "output_type": "stream",
     "text": [
      "Enter in row  2 colunm  1\n"
     ]
    },
    {
     "name": "stdin",
     "output_type": "stream",
     "text": [
      " 7\n"
     ]
    },
    {
     "name": "stdout",
     "output_type": "stream",
     "text": [
      "Enter in row  2 colunm  2\n"
     ]
    },
    {
     "name": "stdin",
     "output_type": "stream",
     "text": [
      " 0\n"
     ]
    },
    {
     "name": "stdout",
     "output_type": "stream",
     "text": [
      "Enter in row  3 colunm  1\n"
     ]
    },
    {
     "name": "stdin",
     "output_type": "stream",
     "text": [
      " 8\n"
     ]
    },
    {
     "name": "stdout",
     "output_type": "stream",
     "text": [
      "Enter in row  3 colunm  2\n"
     ]
    },
    {
     "name": "stdin",
     "output_type": "stream",
     "text": [
      " 4\n"
     ]
    }
   ],
   "source": [
    "mat2 = create_matrix(3,2)"
   ]
  },
  {
   "cell_type": "code",
   "execution_count": 17,
   "id": "6ff99639-7ead-43ff-88d6-1c484e375ca8",
   "metadata": {},
   "outputs": [
    {
     "data": {
      "text/plain": [
       "[[4, 8], [7, 0], [8, 4]]"
      ]
     },
     "execution_count": 17,
     "metadata": {},
     "output_type": "execute_result"
    }
   ],
   "source": [
    "mat2"
   ]
  },
  {
   "cell_type": "code",
   "execution_count": 18,
   "id": "ba162f13-f371-48c4-9ed2-cd6c3f6188f1",
   "metadata": {},
   "outputs": [
    {
     "data": {
      "text/plain": [
       "2"
      ]
     },
     "execution_count": 18,
     "metadata": {},
     "output_type": "execute_result"
    }
   ],
   "source": [
    "len(mat2[0])"
   ]
  },
  {
   "cell_type": "markdown",
   "id": "7dcc9123-0020-4302-8255-4ddf2923b61a",
   "metadata": {},
   "source": [
    "### Multiplication"
   ]
  },
  {
   "cell_type": "markdown",
   "id": "c363cafa-f2fb-4731-9ba4-dc78bf436682",
   "metadata": {},
   "source": [
    "for matrix multiplication :  mxn * pxq = mxq"
   ]
  },
  {
   "cell_type": "code",
   "execution_count": 19,
   "id": "238eb9f9-bc4d-4422-a80b-e3a7600f1384",
   "metadata": {},
   "outputs": [],
   "source": [
    "res = []\n",
    "\n",
    "for i in range(0,len(mat1)):\n",
    "    res.append([])\n",
    "\n",
    "# First initilize the matrix with 0 values\n",
    "\n",
    "for i in range(0,len(mat1)):\n",
    "    for j in range(0,len(mat2[0])):\n",
    "        res[i].append(j)\n",
    "        res[i][j] = 0\n",
    "        "
   ]
  },
  {
   "cell_type": "code",
   "execution_count": 20,
   "id": "f3b118de-a361-4c5e-8271-59992d9e9894",
   "metadata": {},
   "outputs": [
    {
     "data": {
      "text/plain": [
       "[[0, 0], [0, 0]]"
      ]
     },
     "execution_count": 20,
     "metadata": {},
     "output_type": "execute_result"
    }
   ],
   "source": [
    "res"
   ]
  },
  {
   "cell_type": "code",
   "execution_count": 22,
   "id": "5ba1fd0a-5b1a-4278-b3e9-6a5f1497db36",
   "metadata": {},
   "outputs": [
    {
     "name": "stdout",
     "output_type": "stream",
     "text": [
      "[264, 160]\n",
      "[238, 168]\n"
     ]
    }
   ],
   "source": [
    "# iterate through row mat1\n",
    "for i in range(len(mat1)):\n",
    "    # iterate through row mat2\n",
    "    for j in range(len(mat2[0])):\n",
    "        # iterate through colunm mat2\n",
    "        for k in range(len(mat2)):\n",
    "            res[i][j] += mat1[i][k] * mat2[k][j]\n",
    "for i in res:\n",
    "    print(i)"
   ]
  },
  {
   "cell_type": "code",
   "execution_count": null,
   "id": "7a680fd1-6bbd-4880-97a5-5fa79ead4c9c",
   "metadata": {},
   "outputs": [],
   "source": []
  },
  {
   "cell_type": "code",
   "execution_count": null,
   "id": "c8a07c12-4ea4-4913-b76f-726dfabffe31",
   "metadata": {},
   "outputs": [],
   "source": []
  }
 ],
 "metadata": {
  "kernelspec": {
   "display_name": "Python 3 (ipykernel)",
   "language": "python",
   "name": "python3"
  },
  "language_info": {
   "codemirror_mode": {
    "name": "ipython",
    "version": 3
   },
   "file_extension": ".py",
   "mimetype": "text/x-python",
   "name": "python",
   "nbconvert_exporter": "python",
   "pygments_lexer": "ipython3",
   "version": "3.8.12"
  }
 },
 "nbformat": 4,
 "nbformat_minor": 5
}
